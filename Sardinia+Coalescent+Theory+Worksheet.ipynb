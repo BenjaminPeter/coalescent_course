{
 "cells": [
  {
   "cell_type": "code",
   "execution_count": 1,
   "metadata": {
    "collapsed": true
   },
   "outputs": [],
   "source": [
    "import msprime as ms\n",
    "import numpy as np\n",
    "from IPython.display import SVG, display\n",
    "import matplotlib.pylab as plt\n",
    "%matplotlib inline  \n",
    "import os\n",
    "os.environ[\"TF_CPP_MIN_LOG_LEVEL\"]=\"3\""
   ]
  },
  {
   "cell_type": "markdown",
   "metadata": {},
   "source": [
    "# Coalescent simulations using msprime\n",
    "msprime (Kelleher et al. 2016, Bioinformatics) is a coalescent simulator that reimplements and extends the widely used ms (Hudson 2002, Bioinformatics) using a python interface. We will use it here to do some coalescence simulation and investigate the effects of population size changes.\n",
    "\n",
    " <div class=\"alert alert-block alert-danger\">\n",
    " **Iterators**\n",
    "Most output of msprime are _iterators_, i.e. objects that are supposed to be processed by iterating over them using a loop. This approach is highly computationally efficient, because simulation results are not stored in memory longer than necessary. However, it has the drawback that slightly more effort is required compared to working with an object in memory, and we re-simulate a few times throughout this tutorial.\n",
    "</div>\n",
    "\n",
    "## 1. Basic Simulation and plotting\n",
    "For simulating, we use the function `ms.simulate`. It has many options (type `?ms.simulate` for inline docs), but requires at least a `sample_size` parameter to be set. So everyone gets the same tree, we also set a `random_seed`."
   ]
  },
  {
   "cell_type": "code",
   "execution_count": 2,
   "metadata": {},
   "outputs": [
    {
     "data": {
      "image/svg+xml": [
       "<svg baseProfile=\"full\" height=\"300\" version=\"1.1\" width=\"600\" xmlns=\"http://www.w3.org/2000/svg\" xmlns:ev=\"http://www.w3.org/2001/xml-events\" xmlns:xlink=\"http://www.w3.org/1999/xlink\"><defs/><g id=\"lines\" stroke=\"black\"><line x1=\"93.75\" x2=\"93.75\" y1=\"226.62084016472414\" y2=\"20.0\"/><line x1=\"93.75\" x2=\"214.0625\" y1=\"20.0\" y2=\"20.0\"/><line x1=\"50.0\" x2=\"50.0\" y1=\"280.0\" y2=\"226.62084016472414\"/><line x1=\"50.0\" x2=\"93.75\" y1=\"226.62084016472414\" y2=\"226.62084016472414\"/><line x1=\"137.5\" x2=\"137.5\" y1=\"263.22460282402966\" y2=\"226.62084016472414\"/><line x1=\"137.5\" x2=\"93.75\" y1=\"226.62084016472414\" y2=\"226.62084016472414\"/><line x1=\"100.0\" x2=\"100.0\" y1=\"280.0\" y2=\"263.22460282402966\"/><line x1=\"100.0\" x2=\"137.5\" y1=\"263.22460282402966\" y2=\"263.22460282402966\"/><line x1=\"175.0\" x2=\"175.0\" y1=\"272.484130208119\" y2=\"263.22460282402966\"/><line x1=\"175.0\" x2=\"137.5\" y1=\"263.22460282402966\" y2=\"263.22460282402966\"/><line x1=\"150.0\" x2=\"150.0\" y1=\"280.0\" y2=\"272.484130208119\"/><line x1=\"150.0\" x2=\"175.0\" y1=\"272.484130208119\" y2=\"272.484130208119\"/><line x1=\"200.0\" x2=\"200.0\" y1=\"280.0\" y2=\"272.484130208119\"/><line x1=\"200.0\" x2=\"175.0\" y1=\"272.484130208119\" y2=\"272.484130208119\"/><line x1=\"334.375\" x2=\"334.375\" y1=\"217.02423334739052\" y2=\"20.0\"/><line x1=\"334.375\" x2=\"214.0625\" y1=\"20.0\" y2=\"20.0\"/><line x1=\"275.0\" x2=\"275.0\" y1=\"238.50261656287353\" y2=\"217.02423334739052\"/><line x1=\"275.0\" x2=\"334.375\" y1=\"217.02423334739052\" y2=\"217.02423334739052\"/><line x1=\"250.0\" x2=\"250.0\" y1=\"280.0\" y2=\"238.50261656287353\"/><line x1=\"250.0\" x2=\"275.0\" y1=\"238.50261656287353\" y2=\"238.50261656287353\"/><line x1=\"300.0\" x2=\"300.0\" y1=\"280.0\" y2=\"238.50261656287353\"/><line x1=\"300.0\" x2=\"275.0\" y1=\"238.50261656287353\" y2=\"238.50261656287353\"/><line x1=\"393.75\" x2=\"393.75\" y1=\"217.1951336974462\" y2=\"217.02423334739052\"/><line x1=\"393.75\" x2=\"334.375\" y1=\"217.02423334739052\" y2=\"217.02423334739052\"/><line x1=\"350.0\" x2=\"350.0\" y1=\"280.0\" y2=\"217.1951336974462\"/><line x1=\"350.0\" x2=\"393.75\" y1=\"217.1951336974462\" y2=\"217.1951336974462\"/><line x1=\"437.5\" x2=\"437.5\" y1=\"267.52076639651773\" y2=\"217.1951336974462\"/><line x1=\"437.5\" x2=\"393.75\" y1=\"217.1951336974462\" y2=\"217.1951336974462\"/><line x1=\"400.0\" x2=\"400.0\" y1=\"280.0\" y2=\"267.52076639651773\"/><line x1=\"400.0\" x2=\"437.5\" y1=\"267.52076639651773\" y2=\"267.52076639651773\"/><line x1=\"475.0\" x2=\"475.0\" y1=\"271.9621446285251\" y2=\"267.52076639651773\"/><line x1=\"475.0\" x2=\"437.5\" y1=\"267.52076639651773\" y2=\"267.52076639651773\"/><line x1=\"450.0\" x2=\"450.0\" y1=\"280.0\" y2=\"271.9621446285251\"/><line x1=\"450.0\" x2=\"475.0\" y1=\"271.9621446285251\" y2=\"271.9621446285251\"/><line x1=\"500.0\" x2=\"500.0\" y1=\"280.0\" y2=\"271.9621446285251\"/><line x1=\"500.0\" x2=\"475.0\" y1=\"271.9621446285251\" y2=\"271.9621446285251\"/></g><g font-size=\"14\" text-anchor=\"start\"><text x=\"142.5\" y=\"258.22460282402966\">13</text><text x=\"180.0\" y=\"267.484130208119\">10</text><text x=\"339.375\" y=\"212.02423334739052\">17</text><text x=\"398.75\" y=\"212.1951336974462\">16</text><text x=\"442.5\" y=\"262.52076639651773\">12</text><text x=\"480.0\" y=\"266.9621446285251\">11</text></g><g font-size=\"14\" text-anchor=\"end\"><text x=\"88.75\" y=\"221.62084016472414\">15</text><text x=\"270.0\" y=\"233.50261656287353\">14</text></g><g font-size=\"14\" text-anchor=\"middle\"><text x=\"214.0625\" y=\"15.0\">18</text><text x=\"50.0\" y=\"300.0\">2</text><text x=\"100.0\" y=\"300.0\">9</text><text x=\"150.0\" y=\"300.0\">0</text><text x=\"200.0\" y=\"300.0\">5</text><text x=\"250.0\" y=\"300.0\">7</text><text x=\"300.0\" y=\"300.0\">8</text><text x=\"350.0\" y=\"300.0\">4</text><text x=\"400.0\" y=\"300.0\">6</text><text x=\"450.0\" y=\"300.0\">1</text><text x=\"500.0\" y=\"300.0\">3</text></g><circle cx=\"214.0625\" cy=\"20.0\" fill=\"black\" r=\"3\"/><circle cx=\"93.75\" cy=\"226.62084016472414\" fill=\"black\" r=\"3\"/><circle cx=\"50.0\" cy=\"280.0\" fill=\"black\" r=\"3\"/><circle cx=\"137.5\" cy=\"263.22460282402966\" fill=\"black\" r=\"3\"/><circle cx=\"100.0\" cy=\"280.0\" fill=\"black\" r=\"3\"/><circle cx=\"175.0\" cy=\"272.484130208119\" fill=\"black\" r=\"3\"/><circle cx=\"150.0\" cy=\"280.0\" fill=\"black\" r=\"3\"/><circle cx=\"200.0\" cy=\"280.0\" fill=\"black\" r=\"3\"/><circle cx=\"334.375\" cy=\"217.02423334739052\" fill=\"black\" r=\"3\"/><circle cx=\"275.0\" cy=\"238.50261656287353\" fill=\"black\" r=\"3\"/><circle cx=\"250.0\" cy=\"280.0\" fill=\"black\" r=\"3\"/><circle cx=\"300.0\" cy=\"280.0\" fill=\"black\" r=\"3\"/><circle cx=\"393.75\" cy=\"217.1951336974462\" fill=\"black\" r=\"3\"/><circle cx=\"350.0\" cy=\"280.0\" fill=\"black\" r=\"3\"/><circle cx=\"437.5\" cy=\"267.52076639651773\" fill=\"black\" r=\"3\"/><circle cx=\"400.0\" cy=\"280.0\" fill=\"black\" r=\"3\"/><circle cx=\"475.0\" cy=\"271.9621446285251\" fill=\"black\" r=\"3\"/><circle cx=\"450.0\" cy=\"280.0\" fill=\"black\" r=\"3\"/><circle cx=\"500.0\" cy=\"280.0\" fill=\"black\" r=\"3\"/><g alignment-baseline=\"middle\" font-size=\"14\" font-style=\"italic\" text-anchor=\"start\"/><g alignment-baseline=\"middle\" font-size=\"14\" font-style=\"italic\" text-anchor=\"end\"/></svg>"
      ],
      "text/plain": [
       "<IPython.core.display.SVG object>"
      ]
     },
     "metadata": {},
     "output_type": "display_data"
    }
   ],
   "source": [
    "tree_sequence = ms.simulate(sample_size=10, random_seed=4)\n",
    "tree = tree_sequence.first()\n",
    "display(SVG(tree.draw(width=600, height =300)))"
   ]
  },
  {
   "cell_type": "markdown",
   "metadata": {},
   "source": [
    "##### Notes\n",
    "- `ms.simulate` returns a `TreeSequence` object (or an iterator over `TreeSequence` objects if we have multiple replicates, as in many of the following examples). \n",
    "- A `TreeSequence` records how the tree changes across a simulated stretch of the genome with recombination.\n",
    "- As we will not discuss recombination today, all our simulations wil have exactly one tree, which we get using the `TreeSequence.first()` method.\n",
    "- `tree.draw()` draws a tree. `SVG` creates an SVG object and `display` forces rendering in jupyter"
   ]
  },
  {
   "cell_type": "markdown",
   "metadata": {},
   "source": [
    "## 2. Variation in tree shape and size\n",
    "As mentioned in the lecture, coalescent trees are stochastic objects and differ greatly between each iteration of the process. To visualize that, we can generate several replicates, using the `num_replicates` argument to `ms.simulate`. We now have to iterate over the resulting trees using a `for`-loop:"
   ]
  },
  {
   "cell_type": "code",
   "execution_count": 3,
   "metadata": {},
   "outputs": [
    {
     "data": {
      "image/svg+xml": [
       "<svg baseProfile=\"full\" height=\"200\" version=\"1.1\" width=\"200\" xmlns=\"http://www.w3.org/2000/svg\" xmlns:ev=\"http://www.w3.org/2001/xml-events\" xmlns:xlink=\"http://www.w3.org/1999/xlink\"><defs/><g id=\"lines\" stroke=\"black\"><line x1=\"31.25\" x2=\"31.25\" y1=\"147.15128625521487\" y2=\"20.0\"/><line x1=\"31.25\" x2=\"71.35416666666667\" y1=\"20.0\" y2=\"20.0\"/><line x1=\"16.666666666666668\" x2=\"16.666666666666668\" y1=\"180.0\" y2=\"147.15128625521487\"/><line x1=\"16.666666666666668\" x2=\"31.25\" y1=\"147.15128625521487\" y2=\"147.15128625521487\"/><line x1=\"45.833333333333336\" x2=\"45.833333333333336\" y1=\"169.67667866094132\" y2=\"147.15128625521487\"/><line x1=\"45.833333333333336\" x2=\"31.25\" y1=\"147.15128625521487\" y2=\"147.15128625521487\"/><line x1=\"33.333333333333336\" x2=\"33.333333333333336\" y1=\"180.0\" y2=\"169.67667866094132\"/><line x1=\"33.333333333333336\" x2=\"45.833333333333336\" y1=\"169.67667866094132\" y2=\"169.67667866094132\"/><line x1=\"58.333333333333336\" x2=\"58.333333333333336\" y1=\"175.37484935884245\" y2=\"169.67667866094132\"/><line x1=\"58.333333333333336\" x2=\"45.833333333333336\" y1=\"169.67667866094132\" y2=\"169.67667866094132\"/><line x1=\"50.0\" x2=\"50.0\" y1=\"180.0\" y2=\"175.37484935884245\"/><line x1=\"50.0\" x2=\"58.333333333333336\" y1=\"175.37484935884245\" y2=\"175.37484935884245\"/><line x1=\"66.66666666666667\" x2=\"66.66666666666667\" y1=\"180.0\" y2=\"175.37484935884245\"/><line x1=\"66.66666666666667\" x2=\"58.333333333333336\" y1=\"175.37484935884245\" y2=\"175.37484935884245\"/><line x1=\"111.45833333333334\" x2=\"111.45833333333334\" y1=\"141.24568205993262\" y2=\"20.0\"/><line x1=\"111.45833333333334\" x2=\"71.35416666666667\" y1=\"20.0\" y2=\"20.0\"/><line x1=\"91.66666666666667\" x2=\"91.66666666666667\" y1=\"154.463148654076\" y2=\"141.24568205993262\"/><line x1=\"91.66666666666667\" x2=\"111.45833333333334\" y1=\"141.24568205993262\" y2=\"141.24568205993262\"/><line x1=\"83.33333333333334\" x2=\"83.33333333333334\" y1=\"180.0\" y2=\"154.463148654076\"/><line x1=\"83.33333333333334\" x2=\"91.66666666666667\" y1=\"154.463148654076\" y2=\"154.463148654076\"/><line x1=\"100.0\" x2=\"100.0\" y1=\"180.0\" y2=\"154.463148654076\"/><line x1=\"100.0\" x2=\"91.66666666666667\" y1=\"154.463148654076\" y2=\"154.463148654076\"/><line x1=\"131.25\" x2=\"131.25\" y1=\"141.35085150612073\" y2=\"141.24568205993262\"/><line x1=\"131.25\" x2=\"111.45833333333334\" y1=\"141.24568205993262\" y2=\"141.24568205993262\"/><line x1=\"116.66666666666667\" x2=\"116.66666666666667\" y1=\"180.0\" y2=\"141.35085150612073\"/><line x1=\"116.66666666666667\" x2=\"131.25\" y1=\"141.35085150612073\" y2=\"141.35085150612073\"/><line x1=\"145.83333333333334\" x2=\"145.83333333333334\" y1=\"172.3204716286263\" y2=\"141.35085150612073\"/><line x1=\"145.83333333333334\" x2=\"131.25\" y1=\"141.35085150612073\" y2=\"141.35085150612073\"/><line x1=\"133.33333333333334\" x2=\"133.33333333333334\" y1=\"180.0\" y2=\"172.3204716286263\"/><line x1=\"133.33333333333334\" x2=\"145.83333333333334\" y1=\"172.3204716286263\" y2=\"172.3204716286263\"/><line x1=\"158.33333333333334\" x2=\"158.33333333333334\" y1=\"175.05362746370776\" y2=\"172.3204716286263\"/><line x1=\"158.33333333333334\" x2=\"145.83333333333334\" y1=\"172.3204716286263\" y2=\"172.3204716286263\"/><line x1=\"150.0\" x2=\"150.0\" y1=\"180.0\" y2=\"175.05362746370776\"/><line x1=\"150.0\" x2=\"158.33333333333334\" y1=\"175.05362746370776\" y2=\"175.05362746370776\"/><line x1=\"166.66666666666669\" x2=\"166.66666666666669\" y1=\"180.0\" y2=\"175.05362746370776\"/><line x1=\"166.66666666666669\" x2=\"158.33333333333334\" y1=\"175.05362746370776\" y2=\"175.05362746370776\"/></g><g font-size=\"14\" text-anchor=\"start\"><text x=\"50.833333333333336\" y=\"164.67667866094132\">13</text><text x=\"63.333333333333336\" y=\"170.37484935884245\">10</text><text x=\"116.45833333333334\" y=\"136.24568205993262\">17</text><text x=\"136.25\" y=\"136.35085150612073\">16</text><text x=\"150.83333333333334\" y=\"167.3204716286263\">12</text><text x=\"163.33333333333334\" y=\"170.05362746370776\">11</text></g><g font-size=\"14\" text-anchor=\"end\"><text x=\"26.25\" y=\"142.15128625521487\">15</text><text x=\"86.66666666666667\" y=\"149.463148654076\">14</text></g><g font-size=\"14\" text-anchor=\"middle\"><text x=\"71.35416666666667\" y=\"15.0\">18</text><text x=\"16.666666666666668\" y=\"200.0\">2</text><text x=\"33.333333333333336\" y=\"200.0\">9</text><text x=\"50.0\" y=\"200.0\">0</text><text x=\"66.66666666666667\" y=\"200.0\">5</text><text x=\"83.33333333333334\" y=\"200.0\">7</text><text x=\"100.0\" y=\"200.0\">8</text><text x=\"116.66666666666667\" y=\"200.0\">4</text><text x=\"133.33333333333334\" y=\"200.0\">6</text><text x=\"150.0\" y=\"200.0\">1</text><text x=\"166.66666666666669\" y=\"200.0\">3</text></g><circle cx=\"71.35416666666667\" cy=\"20.0\" fill=\"black\" r=\"3\"/><circle cx=\"31.25\" cy=\"147.15128625521487\" fill=\"black\" r=\"3\"/><circle cx=\"16.666666666666668\" cy=\"180.0\" fill=\"black\" r=\"3\"/><circle cx=\"45.833333333333336\" cy=\"169.67667866094132\" fill=\"black\" r=\"3\"/><circle cx=\"33.333333333333336\" cy=\"180.0\" fill=\"black\" r=\"3\"/><circle cx=\"58.333333333333336\" cy=\"175.37484935884245\" fill=\"black\" r=\"3\"/><circle cx=\"50.0\" cy=\"180.0\" fill=\"black\" r=\"3\"/><circle cx=\"66.66666666666667\" cy=\"180.0\" fill=\"black\" r=\"3\"/><circle cx=\"111.45833333333334\" cy=\"141.24568205993262\" fill=\"black\" r=\"3\"/><circle cx=\"91.66666666666667\" cy=\"154.463148654076\" fill=\"black\" r=\"3\"/><circle cx=\"83.33333333333334\" cy=\"180.0\" fill=\"black\" r=\"3\"/><circle cx=\"100.0\" cy=\"180.0\" fill=\"black\" r=\"3\"/><circle cx=\"131.25\" cy=\"141.35085150612073\" fill=\"black\" r=\"3\"/><circle cx=\"116.66666666666667\" cy=\"180.0\" fill=\"black\" r=\"3\"/><circle cx=\"145.83333333333334\" cy=\"172.3204716286263\" fill=\"black\" r=\"3\"/><circle cx=\"133.33333333333334\" cy=\"180.0\" fill=\"black\" r=\"3\"/><circle cx=\"158.33333333333334\" cy=\"175.05362746370776\" fill=\"black\" r=\"3\"/><circle cx=\"150.0\" cy=\"180.0\" fill=\"black\" r=\"3\"/><circle cx=\"166.66666666666669\" cy=\"180.0\" fill=\"black\" r=\"3\"/><g alignment-baseline=\"middle\" font-size=\"14\" font-style=\"italic\" text-anchor=\"start\"/><g alignment-baseline=\"middle\" font-size=\"14\" font-style=\"italic\" text-anchor=\"end\"/></svg>"
      ],
      "text/plain": [
       "<IPython.core.display.SVG object>"
      ]
     },
     "metadata": {},
     "output_type": "display_data"
    },
    {
     "data": {
      "image/svg+xml": [
       "<svg baseProfile=\"full\" height=\"200\" version=\"1.1\" width=\"200\" xmlns=\"http://www.w3.org/2000/svg\" xmlns:ev=\"http://www.w3.org/2001/xml-events\" xmlns:xlink=\"http://www.w3.org/1999/xlink\"><defs/><g id=\"lines\" stroke=\"black\"><line x1=\"32.29166666666667\" x2=\"32.29166666666667\" y1=\"129.04823777741072\" y2=\"20.0\"/><line x1=\"32.29166666666667\" x2=\"76.5625\" y1=\"20.0\" y2=\"20.0\"/><line x1=\"16.666666666666668\" x2=\"16.666666666666668\" y1=\"180.0\" y2=\"129.04823777741072\"/><line x1=\"16.666666666666668\" x2=\"32.29166666666667\" y1=\"129.04823777741072\" y2=\"129.04823777741072\"/><line x1=\"47.91666666666667\" x2=\"47.91666666666667\" y1=\"142.7243085529292\" y2=\"129.04823777741072\"/><line x1=\"47.91666666666667\" x2=\"32.29166666666667\" y1=\"129.04823777741072\" y2=\"129.04823777741072\"/><line x1=\"33.333333333333336\" x2=\"33.333333333333336\" y1=\"180.0\" y2=\"142.7243085529292\"/><line x1=\"33.333333333333336\" x2=\"47.91666666666667\" y1=\"142.7243085529292\" y2=\"142.7243085529292\"/><line x1=\"62.5\" x2=\"62.5\" y1=\"165.25563959410053\" y2=\"142.7243085529292\"/><line x1=\"62.5\" x2=\"47.91666666666667\" y1=\"142.7243085529292\" y2=\"142.7243085529292\"/><line x1=\"50.0\" x2=\"50.0\" y1=\"180.0\" y2=\"165.25563959410053\"/><line x1=\"50.0\" x2=\"62.5\" y1=\"165.25563959410053\" y2=\"165.25563959410053\"/><line x1=\"75.0\" x2=\"75.0\" y1=\"168.2558472409029\" y2=\"165.25563959410053\"/><line x1=\"75.0\" x2=\"62.5\" y1=\"165.25563959410053\" y2=\"165.25563959410053\"/><line x1=\"66.66666666666667\" x2=\"66.66666666666667\" y1=\"180.0\" y2=\"168.2558472409029\"/><line x1=\"66.66666666666667\" x2=\"75.0\" y1=\"168.2558472409029\" y2=\"168.2558472409029\"/><line x1=\"83.33333333333334\" x2=\"83.33333333333334\" y1=\"180.0\" y2=\"168.2558472409029\"/><line x1=\"83.33333333333334\" x2=\"75.0\" y1=\"168.2558472409029\" y2=\"168.2558472409029\"/><line x1=\"120.83333333333334\" x2=\"120.83333333333334\" y1=\"67.32965705065041\" y2=\"20.0\"/><line x1=\"120.83333333333334\" x2=\"76.5625\" y1=\"20.0\" y2=\"20.0\"/><line x1=\"100.0\" x2=\"100.0\" y1=\"180.0\" y2=\"67.32965705065041\"/><line x1=\"100.0\" x2=\"120.83333333333334\" y1=\"67.32965705065041\" y2=\"67.32965705065041\"/><line x1=\"141.66666666666669\" x2=\"141.66666666666669\" y1=\"74.28421311162171\" y2=\"67.32965705065041\"/><line x1=\"141.66666666666669\" x2=\"120.83333333333334\" y1=\"67.32965705065041\" y2=\"67.32965705065041\"/><line x1=\"125.0\" x2=\"125.0\" y1=\"167.29344240122128\" y2=\"74.28421311162171\"/><line x1=\"125.0\" x2=\"141.66666666666669\" y1=\"74.28421311162171\" y2=\"74.28421311162171\"/><line x1=\"116.66666666666667\" x2=\"116.66666666666667\" y1=\"180.0\" y2=\"167.29344240122128\"/><line x1=\"116.66666666666667\" x2=\"125.0\" y1=\"167.29344240122128\" y2=\"167.29344240122128\"/><line x1=\"133.33333333333334\" x2=\"133.33333333333334\" y1=\"180.0\" y2=\"167.29344240122128\"/><line x1=\"133.33333333333334\" x2=\"125.0\" y1=\"167.29344240122128\" y2=\"167.29344240122128\"/><line x1=\"158.33333333333334\" x2=\"158.33333333333334\" y1=\"166.85115112723446\" y2=\"74.28421311162171\"/><line x1=\"158.33333333333334\" x2=\"141.66666666666669\" y1=\"74.28421311162171\" y2=\"74.28421311162171\"/><line x1=\"150.0\" x2=\"150.0\" y1=\"180.0\" y2=\"166.85115112723446\"/><line x1=\"150.0\" x2=\"158.33333333333334\" y1=\"166.85115112723446\" y2=\"166.85115112723446\"/><line x1=\"166.66666666666669\" x2=\"166.66666666666669\" y1=\"180.0\" y2=\"166.85115112723446\"/><line x1=\"166.66666666666669\" x2=\"158.33333333333334\" y1=\"166.85115112723446\" y2=\"166.85115112723446\"/></g><g font-size=\"14\" text-anchor=\"start\"><text x=\"52.91666666666667\" y=\"137.7243085529292\">14</text><text x=\"67.5\" y=\"160.25563959410053\">13</text><text x=\"80.0\" y=\"163.2558472409029\">10</text><text x=\"125.83333333333334\" y=\"62.32965705065041\">17</text><text x=\"146.66666666666669\" y=\"69.28421311162171\">16</text><text x=\"163.33333333333334\" y=\"161.85115112723446\">12</text></g><g font-size=\"14\" text-anchor=\"end\"><text x=\"27.29166666666667\" y=\"124.04823777741072\">15</text><text x=\"120.0\" y=\"162.29344240122128\">11</text></g><g font-size=\"14\" text-anchor=\"middle\"><text x=\"76.5625\" y=\"15.0\">18</text><text x=\"16.666666666666668\" y=\"200.0\">5</text><text x=\"33.333333333333336\" y=\"200.0\">9</text><text x=\"50.0\" y=\"200.0\">0</text><text x=\"66.66666666666667\" y=\"200.0\">2</text><text x=\"83.33333333333334\" y=\"200.0\">8</text><text x=\"100.0\" y=\"200.0\">7</text><text x=\"116.66666666666667\" y=\"200.0\">3</text><text x=\"133.33333333333334\" y=\"200.0\">6</text><text x=\"150.0\" y=\"200.0\">1</text><text x=\"166.66666666666669\" y=\"200.0\">4</text></g><circle cx=\"76.5625\" cy=\"20.0\" fill=\"black\" r=\"3\"/><circle cx=\"32.29166666666667\" cy=\"129.04823777741072\" fill=\"black\" r=\"3\"/><circle cx=\"16.666666666666668\" cy=\"180.0\" fill=\"black\" r=\"3\"/><circle cx=\"47.91666666666667\" cy=\"142.7243085529292\" fill=\"black\" r=\"3\"/><circle cx=\"33.333333333333336\" cy=\"180.0\" fill=\"black\" r=\"3\"/><circle cx=\"62.5\" cy=\"165.25563959410053\" fill=\"black\" r=\"3\"/><circle cx=\"50.0\" cy=\"180.0\" fill=\"black\" r=\"3\"/><circle cx=\"75.0\" cy=\"168.2558472409029\" fill=\"black\" r=\"3\"/><circle cx=\"66.66666666666667\" cy=\"180.0\" fill=\"black\" r=\"3\"/><circle cx=\"83.33333333333334\" cy=\"180.0\" fill=\"black\" r=\"3\"/><circle cx=\"120.83333333333334\" cy=\"67.32965705065041\" fill=\"black\" r=\"3\"/><circle cx=\"100.0\" cy=\"180.0\" fill=\"black\" r=\"3\"/><circle cx=\"141.66666666666669\" cy=\"74.28421311162171\" fill=\"black\" r=\"3\"/><circle cx=\"125.0\" cy=\"167.29344240122128\" fill=\"black\" r=\"3\"/><circle cx=\"116.66666666666667\" cy=\"180.0\" fill=\"black\" r=\"3\"/><circle cx=\"133.33333333333334\" cy=\"180.0\" fill=\"black\" r=\"3\"/><circle cx=\"158.33333333333334\" cy=\"166.85115112723446\" fill=\"black\" r=\"3\"/><circle cx=\"150.0\" cy=\"180.0\" fill=\"black\" r=\"3\"/><circle cx=\"166.66666666666669\" cy=\"180.0\" fill=\"black\" r=\"3\"/><g alignment-baseline=\"middle\" font-size=\"14\" font-style=\"italic\" text-anchor=\"start\"/><g alignment-baseline=\"middle\" font-size=\"14\" font-style=\"italic\" text-anchor=\"end\"/></svg>"
      ],
      "text/plain": [
       "<IPython.core.display.SVG object>"
      ]
     },
     "metadata": {},
     "output_type": "display_data"
    }
   ],
   "source": [
    "tree_sequence_iterator = ms.simulate(sample_size=10, num_replicates=2, random_seed=4)\n",
    "for tree_sequence in tree_sequence_iterator:\n",
    "    tree = tree_sequence.first()\n",
    "    display(SVG(tree.draw()))"
   ]
  },
  {
   "cell_type": "markdown",
   "metadata": {},
   "source": [
    "## 3. Properties of the tree\n",
    "Next, let us look at some of the basic properties of the tree, how we can extract them from `msprime`, and how they compare to the theoretical expectations. `msprime` gives us access to this through its API which allows great flexibility. As a drawback, we need to write some custom code to access them.\n",
    "\n",
    "### 3.1 Total tree length\n",
    "First, let us look at the total size of the genealogy, $T_{tot}$. Remember, in the lecture we showed that \n",
    "$$\\mathbb{E}T_{tot} = 2\\sum_{i=1}^{n-1}\\frac{1}{i}$$, where $n$ is the sample size. Can we confirm this using simulations? To do so, we need i) a function `get_expected_ttot(n)` giving us the expected tree length for a sample of size `n`. We also need a function `get_observed_ttot(tree_sequence)` to get the corresponding quantity from our simulations."
   ]
  },
  {
   "cell_type": "code",
   "execution_count": 4,
   "metadata": {
    "collapsed": true
   },
   "outputs": [],
   "source": [
    "def get_expected_ttot(n):\n",
    "    return 2 * sum(1/i for i in range(1,n))\n",
    "def get_observed_ttot(tree_sequence):\n",
    "    tree = tree_sequence.first()\n",
    "    return tree.total_branch_length"
   ]
  },
  {
   "cell_type": "code",
   "execution_count": 5,
   "metadata": {},
   "outputs": [
    {
     "name": "stdout",
     "output_type": "stream",
     "text": [
      "n\tobs\texpexted\n",
      "2\t4.1344\t2.0000\n",
      "10\t11.1878\t5.6579\n",
      "20\t13.8258\t7.0955\n",
      "50\t17.6146\t8.9584\n",
      "100\t20.9682\t10.3548\n",
      "200\t23.7313\t11.7461\n",
      "500\t27.1586\t13.5816\n",
      "1000\t30.0739\t14.9689\n"
     ]
    }
   ],
   "source": [
    "print(\"n\\tobs\\texpexted\")\n",
    "for n in [2, 10, 20, 50, 100, 200, 500, 1000]:\n",
    "    tree_sequence_iterator = ms.simulate(sample_size=n, num_replicates=1000, random_seed=4)\n",
    "    obs_ttot = [get_observed_ttot(tree_sequence) for tree_sequence in tree_sequence_iterator]\n",
    "    print(\"%d\\t%.4f\\t%.4f\" % (n, np.mean(obs_ttot), get_expected_ttot(n)))"
   ]
  },
  {
   "cell_type": "markdown",
   "metadata": {},
   "source": [
    " <div class=\"alert alert-block alert-warning\">\n",
    " **Question 1**: Why/how do these values differ?\n",
    " </div>"
   ]
  },
  {
   "cell_type": "markdown",
   "metadata": {},
   "source": [
    "### 3.2 Coalescence times:\n",
    "Second, let us look at the coalescence times. Remember that for times where there are $n$ lineages, the coalescence times are distributed exponentially:  $$T_n \\sim \\text{Exp}\\left[\\binom{n}{2}\\right]$$\n",
    "Unless the branch length, the coalescence times are not directly reported by `msprime`. However, what _is_ reported (in the `node.time` attribute) are the times when new lines are created. This is either the sampling time (0, backwards in time, or when coalescence times happened). Thus, we need to extract the lineages by iterating over all non-sample nodes and calculating the differences between the times, which I implemented in the `get_coalescence_times` function:"
   ]
  },
  {
   "cell_type": "code",
   "execution_count": 6,
   "metadata": {
    "collapsed": true
   },
   "outputs": [],
   "source": [
    "def get_coalescence_times(tree_sequence):\n",
    "    \"\"\"get coalescence times from a tree_sequence object\"\"\"\n",
    "    times = [0]\n",
    "    for node in tree_sequence.nodes():\n",
    "        if not node.is_sample():\n",
    "            times.append(node.time)\n",
    "    return np.diff(times)\n",
    "\n",
    "sample_size = 8\n",
    "tree_sequence_iterator = ms.simulate(sample_size=sample_size, num_replicates=10000, random_seed=4) #simulate 10k trees\n",
    "coalescence_times = [get_coalescence_times(tree_sequence) for tree_sequence in tree_sequence_iterator]\n"
   ]
  },
  {
   "cell_type": "markdown",
   "metadata": {},
   "source": [
    "We can then look at the results by calculating the mean and variance in coalescence times across simulations. `numpy` provides convenient functions to this whith the `axis` keyword, `axis=0`, applies a function per row, `axis=1` per column (and similar for higher-dimensional arrays). "
   ]
  },
  {
   "cell_type": "code",
   "execution_count": 7,
   "metadata": {},
   "outputs": [
    {
     "name": "stdout",
     "output_type": "stream",
     "text": [
      "Time\tT_Obs\tExp\n",
      "T8\t0.0723\t0.0714\n",
      "T7\t0.0940\t0.0952\n",
      "T6\t0.1350\t0.1333\n",
      "T5\t0.1989\t0.2000\n",
      "T4\t0.3264\t0.3333\n",
      "T3\t0.6714\t0.6667\n",
      "T2\t1.9975\t2.0000\n"
     ]
    }
   ],
   "source": [
    "coalescence_times = np.array(coalescence_times) #convert to numpy array for easy computation\n",
    "\n",
    "mean_ct = np.mean(coalescence_times, axis=0) #get rowwise mean, i.e. mean of all the same coalescence times\n",
    "expected_coal_times = [2*2/i/(i-1) for i in range(2,1 + sample_size)] #factor of two introduced for scaling\n",
    "print(\"Time\\tT_Obs\\tExp\")\n",
    "for i, time in enumerate(mean_ct):\n",
    "    print(\"T%d\\t%.4f\\t%.4f\" %( sample_size-i, time, expected_coal_times[sample_size - 2 - i]))"
   ]
  },
  {
   "cell_type": "markdown",
   "metadata": {},
   "source": [
    "<div class=\"alert alert-block alert-warning\">\n",
    " **Question 2:**: What do we expect to see for the variance? (Hint: `?np.var`). Write some code to compare the variance in the simulation with the one we would expect based on theory\n",
    " </div>\n",
    " \n",
    " #### Visualization\n",
    " We can also make boxplots with `matplotlib` (which requires slightly more effort). The following code will create two"
   ]
  },
  {
   "cell_type": "code",
   "execution_count": 8,
   "metadata": {},
   "outputs": [
    {
     "name": "stderr",
     "output_type": "stream",
     "text": [
      "/home/bpeter/.local/lib/python3.5/site-packages/matplotlib/figure.py:402: UserWarning: matplotlib is currently using a non-GUI backend, so cannot show the figure\n",
      "  \"matplotlib is currently using a non-GUI backend, \"\n"
     ]
    },
    {
     "data": {
      "image/png": "[encoded data removed]",
      "text/plain": [
       "<matplotlib.figure.Figure at 0x7f94d1430e10>"
      ]
     },
     "metadata": {},
     "output_type": "display_data"
    }
   ],
   "source": [
    "cts = np.hsplit(coalescence_times,coalescence_times.shape[1]) #split array into rows with same coal time between reps\n",
    "\n",
    "fig = plt.figure(figsize=[10,4]) #create figure\n",
    "ax = fig.add_subplot(1, 2, 1) #create panel 1\n",
    "ax.set_ylim(1e-2,5)\n",
    "ax.boxplot(cts, showmeans=True, labels=[\"T%d\" % i for i in range(sample_size,1,-1)])\n",
    "for t in expected_coal_times:\n",
    "    ax.axhline(t, dashes=[3,1], color=\"lightgrey\")\n",
    "ax = fig.add_subplot(1, 2, 2) #create panel 2 with log-scale\n",
    "ax.set_yscale('log')\n",
    "ax.set_ylim(1e-2,5)\n",
    "ax.set_xticks([1,2])\n",
    "ax.boxplot(cts, showmeans=True, labels=[\"T%d\" % i for i in range(sample_size,1,-1)])\n",
    "for t in expected_coal_times:\n",
    "    ax.axhline(t, dashes=[3,1], color=\"lightgrey\")\n",
    "fig.show()"
   ]
  },
  {
   "cell_type": "markdown",
   "metadata": {},
   "source": [
    "We observe that the coalescence times with many lineages are extremely short. So that most of the time is spent with very few lineages. As the $T_n$ are exponential random variables, the boxplots are highly skewed, with the mean (triangle) much larger than the median.\n",
    "\n",
    "## 4. Adding mutations\n",
    "We can easily add mutations from an infinite sites model by supplying a `mutation_rate` parameter to `msprime.simulate`. The resulting visualization shows on which branch mutations fall. Each sample _subtending_ a mutation will have the mutant allele at that particular site. \n",
    "- The mutations are highly random, there are 9 mutations on the left side, but only one on the right side of the tree, even though the lengths are similar!\n",
    "- The tree topology here is identical to the one in the very first simulation figure we did. This is because the same seed is used, and mutations are simulated _after_ the tree, with the number of mutations on each branch being distributed as $\\text{Poisson}(t_i)$, where $t_i$ is the length of a branch"
   ]
  },
  {
   "cell_type": "code",
   "execution_count": 9,
   "metadata": {},
   "outputs": [
    {
     "data": {
      "image/svg+xml": [
       "<svg baseProfile=\"full\" height=\"300\" version=\"1.1\" width=\"600\" xmlns=\"http://www.w3.org/2000/svg\" xmlns:ev=\"http://www.w3.org/2001/xml-events\" xmlns:xlink=\"http://www.w3.org/1999/xlink\"><defs/><g id=\"lines\" stroke=\"black\"><line x1=\"93.75\" x2=\"93.75\" y1=\"226.62084016472414\" y2=\"20.0\"/><line x1=\"93.75\" x2=\"214.0625\" y1=\"20.0\" y2=\"20.0\"/><line x1=\"50.0\" x2=\"50.0\" y1=\"280.0\" y2=\"226.62084016472414\"/><line x1=\"50.0\" x2=\"93.75\" y1=\"226.62084016472414\" y2=\"226.62084016472414\"/><line x1=\"137.5\" x2=\"137.5\" y1=\"263.22460282402966\" y2=\"226.62084016472414\"/><line x1=\"137.5\" x2=\"93.75\" y1=\"226.62084016472414\" y2=\"226.62084016472414\"/><line x1=\"100.0\" x2=\"100.0\" y1=\"280.0\" y2=\"263.22460282402966\"/><line x1=\"100.0\" x2=\"137.5\" y1=\"263.22460282402966\" y2=\"263.22460282402966\"/><line x1=\"175.0\" x2=\"175.0\" y1=\"272.484130208119\" y2=\"263.22460282402966\"/><line x1=\"175.0\" x2=\"137.5\" y1=\"263.22460282402966\" y2=\"263.22460282402966\"/><line x1=\"150.0\" x2=\"150.0\" y1=\"280.0\" y2=\"272.484130208119\"/><line x1=\"150.0\" x2=\"175.0\" y1=\"272.484130208119\" y2=\"272.484130208119\"/><line x1=\"200.0\" x2=\"200.0\" y1=\"280.0\" y2=\"272.484130208119\"/><line x1=\"200.0\" x2=\"175.0\" y1=\"272.484130208119\" y2=\"272.484130208119\"/><line x1=\"334.375\" x2=\"334.375\" y1=\"217.02423334739052\" y2=\"20.0\"/><line x1=\"334.375\" x2=\"214.0625\" y1=\"20.0\" y2=\"20.0\"/><line x1=\"275.0\" x2=\"275.0\" y1=\"238.50261656287353\" y2=\"217.02423334739052\"/><line x1=\"275.0\" x2=\"334.375\" y1=\"217.02423334739052\" y2=\"217.02423334739052\"/><line x1=\"250.0\" x2=\"250.0\" y1=\"280.0\" y2=\"238.50261656287353\"/><line x1=\"250.0\" x2=\"275.0\" y1=\"238.50261656287353\" y2=\"238.50261656287353\"/><line x1=\"300.0\" x2=\"300.0\" y1=\"280.0\" y2=\"238.50261656287353\"/><line x1=\"300.0\" x2=\"275.0\" y1=\"238.50261656287353\" y2=\"238.50261656287353\"/><line x1=\"393.75\" x2=\"393.75\" y1=\"217.1951336974462\" y2=\"217.02423334739052\"/><line x1=\"393.75\" x2=\"334.375\" y1=\"217.02423334739052\" y2=\"217.02423334739052\"/><line x1=\"350.0\" x2=\"350.0\" y1=\"280.0\" y2=\"217.1951336974462\"/><line x1=\"350.0\" x2=\"393.75\" y1=\"217.1951336974462\" y2=\"217.1951336974462\"/><line x1=\"437.5\" x2=\"437.5\" y1=\"267.52076639651773\" y2=\"217.1951336974462\"/><line x1=\"437.5\" x2=\"393.75\" y1=\"217.1951336974462\" y2=\"217.1951336974462\"/><line x1=\"400.0\" x2=\"400.0\" y1=\"280.0\" y2=\"267.52076639651773\"/><line x1=\"400.0\" x2=\"437.5\" y1=\"267.52076639651773\" y2=\"267.52076639651773\"/><line x1=\"475.0\" x2=\"475.0\" y1=\"271.9621446285251\" y2=\"267.52076639651773\"/><line x1=\"475.0\" x2=\"437.5\" y1=\"267.52076639651773\" y2=\"267.52076639651773\"/><line x1=\"450.0\" x2=\"450.0\" y1=\"280.0\" y2=\"271.9621446285251\"/><line x1=\"450.0\" x2=\"475.0\" y1=\"271.9621446285251\" y2=\"271.9621446285251\"/><line x1=\"500.0\" x2=\"500.0\" y1=\"280.0\" y2=\"271.9621446285251\"/><line x1=\"500.0\" x2=\"475.0\" y1=\"271.9621446285251\" y2=\"271.9621446285251\"/></g><g font-size=\"14\" text-anchor=\"start\"><text x=\"142.5\" y=\"258.22460282402966\">13</text><text x=\"180.0\" y=\"267.484130208119\">10</text><text x=\"339.375\" y=\"212.02423334739052\">17</text><text x=\"398.75\" y=\"212.1951336974462\">16</text><text x=\"442.5\" y=\"262.52076639651773\">12</text><text x=\"480.0\" y=\"266.9621446285251\">11</text></g><g font-size=\"14\" text-anchor=\"end\"><text x=\"88.75\" y=\"221.62084016472414\">15</text><text x=\"270.0\" y=\"233.50261656287353\">14</text></g><g font-size=\"14\" text-anchor=\"middle\"><text x=\"214.0625\" y=\"15.0\">18</text><text x=\"50.0\" y=\"300.0\">2</text><text x=\"100.0\" y=\"300.0\">9</text><text x=\"150.0\" y=\"300.0\">0</text><text x=\"200.0\" y=\"300.0\">5</text><text x=\"250.0\" y=\"300.0\">7</text><text x=\"300.0\" y=\"300.0\">8</text><text x=\"350.0\" y=\"300.0\">4</text><text x=\"400.0\" y=\"300.0\">6</text><text x=\"450.0\" y=\"300.0\">1</text><text x=\"500.0\" y=\"300.0\">3</text></g><circle cx=\"214.0625\" cy=\"20.0\" fill=\"black\" r=\"3\"/><circle cx=\"93.75\" cy=\"226.62084016472414\" fill=\"black\" r=\"3\"/><circle cx=\"50.0\" cy=\"280.0\" fill=\"black\" r=\"3\"/><circle cx=\"137.5\" cy=\"263.22460282402966\" fill=\"black\" r=\"3\"/><circle cx=\"100.0\" cy=\"280.0\" fill=\"black\" r=\"3\"/><circle cx=\"175.0\" cy=\"272.484130208119\" fill=\"black\" r=\"3\"/><circle cx=\"150.0\" cy=\"280.0\" fill=\"black\" r=\"3\"/><circle cx=\"200.0\" cy=\"280.0\" fill=\"black\" r=\"3\"/><circle cx=\"334.375\" cy=\"217.02423334739052\" fill=\"black\" r=\"3\"/><circle cx=\"275.0\" cy=\"238.50261656287353\" fill=\"black\" r=\"3\"/><circle cx=\"250.0\" cy=\"280.0\" fill=\"black\" r=\"3\"/><circle cx=\"300.0\" cy=\"280.0\" fill=\"black\" r=\"3\"/><circle cx=\"393.75\" cy=\"217.1951336974462\" fill=\"black\" r=\"3\"/><circle cx=\"350.0\" cy=\"280.0\" fill=\"black\" r=\"3\"/><circle cx=\"437.5\" cy=\"267.52076639651773\" fill=\"black\" r=\"3\"/><circle cx=\"400.0\" cy=\"280.0\" fill=\"black\" r=\"3\"/><circle cx=\"475.0\" cy=\"271.9621446285251\" fill=\"black\" r=\"3\"/><circle cx=\"450.0\" cy=\"280.0\" fill=\"black\" r=\"3\"/><circle cx=\"500.0\" cy=\"280.0\" fill=\"black\" r=\"3\"/><g alignment-baseline=\"middle\" font-size=\"14\" font-style=\"italic\" text-anchor=\"start\"><text x=\"339.375\" y=\"123.01211667369526\">1</text><text x=\"142.5\" y=\"255.52334860426114\">5</text><text x=\"142.5\" y=\"243.32209438449266\">6</text></g><g alignment-baseline=\"middle\" font-size=\"14\" font-style=\"italic\" text-anchor=\"end\"><text x=\"45.0\" y=\"266.7069467215747\">4</text><text x=\"45.0\" y=\"248.91389344314942\">9</text><text x=\"88.75\" y=\"196.68403347060345\">0</text><text x=\"88.75\" y=\"162.24722677648276\">2</text><text x=\"88.75\" y=\"127.81042008236207\">3</text><text x=\"88.75\" y=\"93.37361338824138\">7</text><text x=\"88.75\" y=\"58.93680669412069\">8</text></g><rect fill=\"red\" height=\"6\" width=\"6\" x=\"331.375\" y=\"115.51211667369526\"/><rect fill=\"red\" height=\"6\" width=\"6\" x=\"47.0\" y=\"259.2069467215747\"/><rect fill=\"red\" height=\"6\" width=\"6\" x=\"47.0\" y=\"241.41389344314942\"/><rect fill=\"red\" height=\"6\" width=\"6\" x=\"134.5\" y=\"248.02334860426114\"/><rect fill=\"red\" height=\"6\" width=\"6\" x=\"134.5\" y=\"235.82209438449266\"/><rect fill=\"red\" height=\"6\" width=\"6\" x=\"90.75\" y=\"189.18403347060345\"/><rect fill=\"red\" height=\"6\" width=\"6\" x=\"90.75\" y=\"154.74722677648276\"/><rect fill=\"red\" height=\"6\" width=\"6\" x=\"90.75\" y=\"120.31042008236207\"/><rect fill=\"red\" height=\"6\" width=\"6\" x=\"90.75\" y=\"85.87361338824138\"/><rect fill=\"red\" height=\"6\" width=\"6\" x=\"90.75\" y=\"51.43680669412069\"/></svg>"
      ],
      "text/plain": [
       "<IPython.core.display.SVG object>"
      ]
     },
     "metadata": {},
     "output_type": "display_data"
    }
   ],
   "source": [
    "tree_sequence = ms.simulate(sample_size=10, random_seed=4, mutation_rate=.5)\n",
    "tree = tree_sequence.first()\n",
    "display(SVG(tree.draw(width=600, height =300)))"
   ]
  },
  {
   "cell_type": "markdown",
   "metadata": {},
   "source": [
    "<div class=\"alert alert-block alert-warning\">\n",
    " **Question 3:** Implement the function `get_expected_segsites` to calculate the expected number of segregating sites in a sample, and the function `get_observed_segsites` to get the number of mutations from a `TreeSequence` object. See if your expectation matches predictions. (Hint: `?tree_sequence.num_mutations`)\n",
    " </div>"
   ]
  },
  {
   "cell_type": "code",
   "execution_count": 10,
   "metadata": {
    "collapsed": true
   },
   "outputs": [],
   "source": [
    "def get_expected_segsites(n, theta):\n",
    "    \"\"\"To be implemented\"\"\"\n",
    "    return -1\n",
    "def get_observed_segsites(tree_sequence):\n",
    "    \"\"\"To be implemented\"\"\"\n",
    "    return -1"
   ]
  },
  {
   "cell_type": "code",
   "execution_count": 11,
   "metadata": {},
   "outputs": [
    {
     "name": "stdout",
     "output_type": "stream",
     "text": [
      "n\ttheta\tobs\texpexted\n",
      "2\t0.10\t-1.00\t-2.0000\n",
      "2\t1.00\t-1.00\t-2.0000\n",
      "2\t10.00\t-1.00\t-2.0000\n",
      "2\t100.00\t-1.00\t-2.0000\n",
      "20\t0.10\t-1.00\t-2.0000\n",
      "20\t1.00\t-1.00\t-2.0000\n",
      "20\t10.00\t-1.00\t-2.0000\n",
      "20\t100.00\t-1.00\t-2.0000\n",
      "200\t0.10\t-1.00\t-2.0000\n",
      "200\t1.00\t-1.00\t-2.0000\n",
      "200\t10.00\t-1.00\t-2.0000\n",
      "200\t100.00\t-1.00\t-2.0000\n"
     ]
    }
   ],
   "source": [
    "print(\"n\\ttheta\\tobs\\texpexted\")\n",
    "sample_sizes = [2, 20, 200]\n",
    "thetas = [.1, 1, 10, 100]\n",
    "for n in sample_sizes:\n",
    "    for theta in thetas:\n",
    "        tree_sequence_iterator = ms.simulate(sample_size=n, num_replicates=1000, random_seed=4, mutation_rate=theta)\n",
    "        obs_S = [get_observed_segsites(tree_sequence) for tree_sequence in tree_sequence_iterator]\n",
    "        print(\"%d\\t%.2f\\t%.2f\\t%.4f\" % (n, theta, np.mean(obs_S), 2 * get_expected_segsites(n, theta)))"
   ]
  },
  {
   "cell_type": "markdown",
   "metadata": {},
   "source": [
    "## 5. Demographic history\n",
    "All calculations discussed so far assume a highly idealized population, with random mating and constant size through its history. This is, of course, highly unrealistic, as populations are spatially structured and able to adapt to changing environments. Much of coalesence theory is concerned with understanding and learning from these deviations from expectations to learn about population structure, population size changes and the effects of natural selection. \n",
    "\n",
    "One of the easiest ways to introduce history is through exponential growth, where a population grows at a constant rate $\\alpha$. In `msprime`, this means we have to first create a `PopulationConfiguration`-object that defines the sample size and growth (type `?ms.PopulationConfiguration` for full docs)."
   ]
  },
  {
   "cell_type": "code",
   "execution_count": 12,
   "metadata": {},
   "outputs": [
    {
     "data": {
      "image/svg+xml": [
       "<svg baseProfile=\"full\" height=\"300\" version=\"1.1\" width=\"600\" xmlns=\"http://www.w3.org/2000/svg\" xmlns:ev=\"http://www.w3.org/2001/xml-events\" xmlns:xlink=\"http://www.w3.org/1999/xlink\"><defs/><g id=\"lines\" stroke=\"black\"><line x1=\"93.75\" x2=\"93.75\" y1=\"216.93853856778253\" y2=\"20.0\"/><line x1=\"93.75\" x2=\"214.0625\" y1=\"20.0\" y2=\"20.0\"/><line x1=\"50.0\" x2=\"50.0\" y1=\"280.0\" y2=\"216.93853856778253\"/><line x1=\"50.0\" x2=\"93.75\" y1=\"216.93853856778253\" y2=\"216.93853856778253\"/><line x1=\"137.5\" x2=\"137.5\" y1=\"259.4780742887016\" y2=\"216.93853856778253\"/><line x1=\"137.5\" x2=\"93.75\" y1=\"216.93853856778253\" y2=\"216.93853856778253\"/><line x1=\"100.0\" x2=\"100.0\" y1=\"280.0\" y2=\"259.4780742887016\"/><line x1=\"100.0\" x2=\"137.5\" y1=\"259.4780742887016\" y2=\"259.4780742887016\"/><line x1=\"175.0\" x2=\"175.0\" y1=\"270.72101212777926\" y2=\"259.4780742887016\"/><line x1=\"175.0\" x2=\"137.5\" y1=\"259.4780742887016\" y2=\"259.4780742887016\"/><line x1=\"150.0\" x2=\"150.0\" y1=\"280.0\" y2=\"270.72101212777926\"/><line x1=\"150.0\" x2=\"175.0\" y1=\"270.72101212777926\" y2=\"270.72101212777926\"/><line x1=\"200.0\" x2=\"200.0\" y1=\"280.0\" y2=\"270.72101212777926\"/><line x1=\"200.0\" x2=\"175.0\" y1=\"270.72101212777926\" y2=\"270.72101212777926\"/><line x1=\"334.375\" x2=\"334.375\" y1=\"206.25491420718947\" y2=\"20.0\"/><line x1=\"334.375\" x2=\"214.0625\" y1=\"20.0\" y2=\"20.0\"/><line x1=\"275.0\" x2=\"275.0\" y1=\"230.42796687196935\" y2=\"206.25491420718947\"/><line x1=\"275.0\" x2=\"334.375\" y1=\"206.25491420718947\" y2=\"206.25491420718947\"/><line x1=\"250.0\" x2=\"250.0\" y1=\"280.0\" y2=\"230.42796687196935\"/><line x1=\"250.0\" x2=\"275.0\" y1=\"230.42796687196935\" y2=\"230.42796687196935\"/><line x1=\"300.0\" x2=\"300.0\" y1=\"280.0\" y2=\"230.42796687196935\"/><line x1=\"300.0\" x2=\"275.0\" y1=\"230.42796687196935\" y2=\"230.42796687196935\"/><line x1=\"393.75\" x2=\"393.75\" y1=\"206.44356239630923\" y2=\"206.25491420718947\"/><line x1=\"393.75\" x2=\"334.375\" y1=\"206.25491420718947\" y2=\"206.25491420718947\"/><line x1=\"350.0\" x2=\"350.0\" y1=\"280.0\" y2=\"206.44356239630923\"/><line x1=\"350.0\" x2=\"393.75\" y1=\"206.44356239630923\" y2=\"206.44356239630923\"/><line x1=\"437.5\" x2=\"437.5\" y1=\"264.6690001803203\" y2=\"206.44356239630923\"/><line x1=\"437.5\" x2=\"393.75\" y1=\"206.44356239630923\" y2=\"206.44356239630923\"/><line x1=\"400.0\" x2=\"400.0\" y1=\"280.0\" y2=\"264.6690001803203\"/><line x1=\"400.0\" x2=\"437.5\" y1=\"264.6690001803203\" y2=\"264.6690001803203\"/><line x1=\"475.0\" x2=\"475.0\" y1=\"270.08173314432116\" y2=\"264.6690001803203\"/><line x1=\"475.0\" x2=\"437.5\" y1=\"264.6690001803203\" y2=\"264.6690001803203\"/><line x1=\"450.0\" x2=\"450.0\" y1=\"280.0\" y2=\"270.08173314432116\"/><line x1=\"450.0\" x2=\"475.0\" y1=\"270.08173314432116\" y2=\"270.08173314432116\"/><line x1=\"500.0\" x2=\"500.0\" y1=\"280.0\" y2=\"270.08173314432116\"/><line x1=\"500.0\" x2=\"475.0\" y1=\"270.08173314432116\" y2=\"270.08173314432116\"/></g><g font-size=\"14\" text-anchor=\"start\"><text x=\"142.5\" y=\"254.47807428870158\">13</text><text x=\"180.0\" y=\"265.72101212777926\">10</text><text x=\"339.375\" y=\"201.25491420718947\">17</text><text x=\"398.75\" y=\"201.44356239630923\">16</text><text x=\"442.5\" y=\"259.6690001803203\">12</text><text x=\"480.0\" y=\"265.08173314432116\">11</text></g><g font-size=\"14\" text-anchor=\"end\"><text x=\"88.75\" y=\"211.93853856778253\">15</text><text x=\"270.0\" y=\"225.42796687196935\">14</text></g><g font-size=\"14\" text-anchor=\"middle\"><text x=\"214.0625\" y=\"15.0\">18</text><text x=\"50.0\" y=\"300.0\">2</text><text x=\"100.0\" y=\"300.0\">9</text><text x=\"150.0\" y=\"300.0\">0</text><text x=\"200.0\" y=\"300.0\">5</text><text x=\"250.0\" y=\"300.0\">7</text><text x=\"300.0\" y=\"300.0\">8</text><text x=\"350.0\" y=\"300.0\">4</text><text x=\"400.0\" y=\"300.0\">6</text><text x=\"450.0\" y=\"300.0\">1</text><text x=\"500.0\" y=\"300.0\">3</text></g><circle cx=\"214.0625\" cy=\"20.0\" fill=\"black\" r=\"3\"/><circle cx=\"93.75\" cy=\"216.93853856778253\" fill=\"black\" r=\"3\"/><circle cx=\"50.0\" cy=\"280.0\" fill=\"black\" r=\"3\"/><circle cx=\"137.5\" cy=\"259.4780742887016\" fill=\"black\" r=\"3\"/><circle cx=\"100.0\" cy=\"280.0\" fill=\"black\" r=\"3\"/><circle cx=\"175.0\" cy=\"270.72101212777926\" fill=\"black\" r=\"3\"/><circle cx=\"150.0\" cy=\"280.0\" fill=\"black\" r=\"3\"/><circle cx=\"200.0\" cy=\"280.0\" fill=\"black\" r=\"3\"/><circle cx=\"334.375\" cy=\"206.25491420718947\" fill=\"black\" r=\"3\"/><circle cx=\"275.0\" cy=\"230.42796687196935\" fill=\"black\" r=\"3\"/><circle cx=\"250.0\" cy=\"280.0\" fill=\"black\" r=\"3\"/><circle cx=\"300.0\" cy=\"280.0\" fill=\"black\" r=\"3\"/><circle cx=\"393.75\" cy=\"206.44356239630923\" fill=\"black\" r=\"3\"/><circle cx=\"350.0\" cy=\"280.0\" fill=\"black\" r=\"3\"/><circle cx=\"437.5\" cy=\"264.6690001803203\" fill=\"black\" r=\"3\"/><circle cx=\"400.0\" cy=\"280.0\" fill=\"black\" r=\"3\"/><circle cx=\"475.0\" cy=\"270.08173314432116\" fill=\"black\" r=\"3\"/><circle cx=\"450.0\" cy=\"280.0\" fill=\"black\" r=\"3\"/><circle cx=\"500.0\" cy=\"280.0\" fill=\"black\" r=\"3\"/><g alignment-baseline=\"middle\" font-size=\"14\" font-style=\"italic\" text-anchor=\"start\"><text x=\"339.375\" y=\"148.66994280479298\">7</text><text x=\"339.375\" y=\"86.58497140239649\">9</text><text x=\"305.0\" y=\"267.9759889573231\">2</text><text x=\"305.0\" y=\"251.45197791464622\">6</text><text x=\"442.5\" y=\"240.05628128831478\">10</text><text x=\"142.5\" y=\"249.79822904839523\">14</text><text x=\"142.5\" y=\"235.61838380808888\">15</text></g><g alignment-baseline=\"middle\" font-size=\"14\" font-style=\"italic\" text-anchor=\"end\"><text x=\"45.0\" y=\"252.96926928389126\">5</text><text x=\"345.0\" y=\"259.9811874654364\">3</text><text x=\"345.0\" y=\"235.4623749308728\">4</text><text x=\"395.0\" y=\"276.8345000901602\">11</text><text x=\"245.0\" y=\"267.9759889573231\">0</text><text x=\"245.0\" y=\"251.45197791464622\">1</text><text x=\"88.75\" y=\"172.2039039258369\">8</text><text x=\"88.75\" y=\"122.96926928389126\">12</text><text x=\"88.75\" y=\"73.73463464194563\">13</text></g><rect fill=\"red\" height=\"6\" width=\"6\" x=\"331.375\" y=\"141.16994280479298\"/><rect fill=\"red\" height=\"6\" width=\"6\" x=\"331.375\" y=\"79.08497140239649\"/><rect fill=\"red\" height=\"6\" width=\"6\" x=\"47.0\" y=\"245.46926928389126\"/><rect fill=\"red\" height=\"6\" width=\"6\" x=\"347.0\" y=\"252.48118746543642\"/><rect fill=\"red\" height=\"6\" width=\"6\" x=\"347.0\" y=\"227.9623749308728\"/><rect fill=\"red\" height=\"6\" width=\"6\" x=\"397.0\" y=\"269.3345000901602\"/><rect fill=\"red\" height=\"6\" width=\"6\" x=\"247.0\" y=\"260.4759889573231\"/><rect fill=\"red\" height=\"6\" width=\"6\" x=\"247.0\" y=\"243.95197791464622\"/><rect fill=\"red\" height=\"6\" width=\"6\" x=\"297.0\" y=\"260.4759889573231\"/><rect fill=\"red\" height=\"6\" width=\"6\" x=\"297.0\" y=\"243.95197791464622\"/><rect fill=\"red\" height=\"6\" width=\"6\" x=\"434.5\" y=\"232.55628128831478\"/><rect fill=\"red\" height=\"6\" width=\"6\" x=\"134.5\" y=\"242.29822904839523\"/><rect fill=\"red\" height=\"6\" width=\"6\" x=\"134.5\" y=\"228.11838380808888\"/><rect fill=\"red\" height=\"6\" width=\"6\" x=\"90.75\" y=\"164.7039039258369\"/><rect fill=\"red\" height=\"6\" width=\"6\" x=\"90.75\" y=\"115.46926928389126\"/><rect fill=\"red\" height=\"6\" width=\"6\" x=\"90.75\" y=\"66.23463464194563\"/></svg>"
      ],
      "text/plain": [
       "<IPython.core.display.SVG object>"
      ]
     },
     "metadata": {},
     "output_type": "display_data"
    }
   ],
   "source": [
    "pop_conf = ms.PopulationConfiguration(sample_size=10, growth_rate=.1)\n",
    "tree_sequence = ms.simulate(population_configurations=[pop_conf], random_seed=4, mutation_rate=1)\n",
    "tree = tree_sequence.first()\n",
    "display(SVG(tree.draw(width=600, height =300)))"
   ]
  },
  {
   "cell_type": "markdown",
   "metadata": {},
   "source": [
    "<div class=\"alert alert-block alert-warning\">\n",
    "**Question 4:** By using the same seed as above, we again obtain the same topology as in the first example. Do you notice any changes?\n",
    " </div>\n",
    " ### 5.1 The genotype matrix\n",
    "Furthermore, we can look at a compact representation of genotypes by calling `tree_sequence.genotype_matrix()`. This function will create a matrix where each column represents an individual, and each row a specific site. A `0` means the state is ancestral, whereas a `1` refers to a derived state, i.e. that the sampled individual subtends that mutation."
   ]
  },
  {
   "cell_type": "code",
   "execution_count": 13,
   "metadata": {},
   "outputs": [
    {
     "data": {
      "text/plain": [
       "array([[0, 0, 0, 0, 0, 0, 0, 1, 0, 0],\n",
       "       [0, 0, 0, 0, 0, 0, 0, 1, 0, 0],\n",
       "       [0, 0, 0, 0, 0, 0, 0, 0, 1, 0],\n",
       "       [0, 0, 0, 0, 1, 0, 0, 0, 0, 0],\n",
       "       [0, 0, 0, 0, 1, 0, 0, 0, 0, 0],\n",
       "       [0, 0, 1, 0, 0, 0, 0, 0, 0, 0],\n",
       "       [0, 0, 0, 0, 0, 0, 0, 0, 1, 0],\n",
       "       [0, 1, 0, 1, 1, 0, 1, 1, 1, 0],\n",
       "       [1, 0, 1, 0, 0, 1, 0, 0, 0, 1],\n",
       "       [0, 1, 0, 1, 1, 0, 1, 1, 1, 0],\n",
       "       [0, 1, 0, 1, 0, 0, 1, 0, 0, 0],\n",
       "       [0, 0, 0, 0, 0, 0, 1, 0, 0, 0],\n",
       "       [1, 0, 1, 0, 0, 1, 0, 0, 0, 1],\n",
       "       [1, 0, 1, 0, 0, 1, 0, 0, 0, 1],\n",
       "       [1, 0, 0, 0, 0, 1, 0, 0, 0, 1],\n",
       "       [1, 0, 0, 0, 0, 1, 0, 0, 0, 1]], dtype=uint8)"
      ]
     },
     "execution_count": 13,
     "metadata": {},
     "output_type": "execute_result"
    }
   ],
   "source": [
    "tree_sequence.genotype_matrix()"
   ]
  },
  {
   "cell_type": "markdown",
   "metadata": {},
   "source": [
    "\n",
    " \n",
    " <div class=\"alert alert-block alert-warning\">\n",
    "**Question 5:** Based on what you know about the relationship between population size, tree length and number of mutations, would you expect more or less mutations? And would you expect proportionally more rare or common variants?\n",
    " </div>\n",
    " \n",
    "  <div class=\"alert alert-block alert-warning\">\n",
    "**Question 6:** To test this, run some simulations using different growth rates and compare the number of segregating sites with the expectation from a constant-sized population.\n",
    " </div>"
   ]
  },
  {
   "cell_type": "code",
   "execution_count": 14,
   "metadata": {},
   "outputs": [
    {
     "name": "stdout",
     "output_type": "stream",
     "text": [
      "n\talpha\tobs\texpexted\n",
      "2\t0.00\t-1.00\t-2.0000\n",
      "2\t0.01\t-1.00\t-2.0000\n",
      "2\t0.10\t-1.00\t-2.0000\n",
      "2\t1.00\t-1.00\t-2.0000\n",
      "20\t0.00\t-1.00\t-2.0000\n",
      "20\t0.01\t-1.00\t-2.0000\n",
      "20\t0.10\t-1.00\t-2.0000\n",
      "20\t1.00\t-1.00\t-2.0000\n",
      "200\t0.00\t-1.00\t-2.0000\n",
      "200\t0.01\t-1.00\t-2.0000\n",
      "200\t0.10\t-1.00\t-2.0000\n",
      "200\t1.00\t-1.00\t-2.0000\n"
     ]
    }
   ],
   "source": [
    "def simulate_growing_population(growth_rate, sample_size, **kwargs):\n",
    "    \"\"\"\n",
    "    Simulate a growin population using msprime. Required arguments are \n",
    "     - growth_rate (float): growth rate of population backwards in time\n",
    "     - sample_size (int): number of samples to be simulated\n",
    "     - mutation_rate (float): mutation_rate per unit time\n",
    "     \n",
    "     Returns:\n",
    "     - an iterator over msprime.TreeSequence objects performing the simulation\n",
    "    \"\"\"\n",
    "    pop_conf = ms.PopulationConfiguration(sample_size=sample_size, growth_rate=growth_rate)\n",
    "    return ms.simulate(population_configurations=[pop_conf], **kwargs)\n",
    "    \n",
    "\n",
    "print(\"n\\talpha\\tobs\\texpexted\")\n",
    "sample_sizes = [2, 20, 200]\n",
    "theta = 10\n",
    "growth_rates = [0, .01, .1, 1]\n",
    "for n in sample_sizes:\n",
    "    for g in growth_rates:\n",
    "        tree_sequence_iterator = simulate_growing_population(growth_rate=g, sample_size=n, mutation_rate=theta, \n",
    "                                                            num_replicates=500)\n",
    "        obs_S = [get_observed_segsites(tree_sequence) for tree_sequence in tree_sequence_iterator]\n",
    "        print(\"%d\\t%.2f\\t%.2f\\t%.4f\" % (n, g, np.mean(obs_S), 2 * get_expected_segsites(n, theta)))"
   ]
  },
  {
   "cell_type": "markdown",
   "metadata": {},
   "source": [
    "# Part 2: Some applications of the coalescent\n",
    "In this second step, we are going to look at some ways the coalescent can be used to interpret data. Let us start with the site frequency spectrum (SFS), the histogram of mutations at a given abundance in a sample.\n",
    "\n",
    "To compute the SFS in `msprime`, we have to use the `BranchLengthStatCalculator`-module, which allows to calculate the SFS based on the lengths of all the branches. From this, we could easily sample mutations by taking independent Poisson random variables."
   ]
  },
  {
   "cell_type": "code",
   "execution_count": 15,
   "metadata": {},
   "outputs": [
    {
     "name": "stdout",
     "output_type": "stream",
     "text": [
      "freq\texpected\tobserved\n",
      "1\t0.353\t\t0.354\n",
      "2\t0.177\t\t0.180\n",
      "3\t0.118\t\t0.118\n",
      "4\t0.088\t\t0.088\n",
      "5\t0.071\t\t0.071\n",
      "6\t0.059\t\t0.058\n",
      "7\t0.050\t\t0.049\n",
      "8\t0.044\t\t0.045\n",
      "9\t0.039\t\t0.036\n"
     ]
    }
   ],
   "source": [
    "sample_size=10\n",
    "tree_sequence_iterator = ms.simulate(sample_size=sample_size, random_seed=4, num_replicates=1000)\n",
    "sfs = np.zeros(sample_size)\n",
    "for tree_sequence in tree_sequence_iterator:\n",
    "    s = ms.BranchLengthStatCalculator(tree_sequence)\n",
    "    sfs += s.site_frequency_spectrum(sample_set=list(s.tree_sequence.first().samples()))[0]\n",
    "\n",
    "sfs_exp = 1 / np.arange(1,sample_size)\n",
    "  \n",
    "print(\"freq\\texpected\\tobserved\")\n",
    "for ij in zip(np.arange(1, 10), sfs_exp / sum(sfs_exp), sfs / sum(sfs)):\n",
    "    print(\"%d\\t%.3f\\t\\t%.3f\" % ij)"
   ]
  },
  {
   "cell_type": "markdown",
   "metadata": {},
   "source": [
    " <div class=\"alert alert-block alert-warning\">\n",
    "**Question 7:** Calculate the SFS based on simulations using the exponentially growing population from Exercise 5. What would you expect? Does the simulation match your expectation?\n",
    " </div>"
   ]
  },
  {
   "cell_type": "code",
   "execution_count": 16,
   "metadata": {},
   "outputs": [
    {
     "data": {
      "text/plain": [
       "'to be implemented'"
      ]
     },
     "execution_count": 16,
     "metadata": {},
     "output_type": "execute_result"
    }
   ],
   "source": [
    "\"\"\"to be implemented\"\"\""
   ]
  },
  {
   "cell_type": "markdown",
   "metadata": {},
   "source": [
    "## Population Structure\n",
    "The next piece of complexity we would like to add are multiple, interacting populations. For this, we need to define a demography using a set of `msprime.PopulationConfiguration` objects that give the initial sizes of each population. For our example, we will use a very simplified human demographic model with Europeans, Africans and Neandertals:"
   ]
  },
  {
   "cell_type": "code",
   "execution_count": 17,
   "metadata": {
    "collapsed": true
   },
   "outputs": [],
   "source": [
    "EUR_POP = ms.PopulationConfiguration(sample_size=4, initial_size=.8)\n",
    "AFR_POP = ms.PopulationConfiguration(sample_size=6, initial_size=1)\n",
    "NEA_POP = ms.PopulationConfiguration(sample_size=2, initial_size=.1)\n",
    "pop_cfg = [EUR_POP, AFR_POP, NEA_POP]"
   ]
  },
  {
   "cell_type": "markdown",
   "metadata": {},
   "source": [
    "This specifies three populations with sample sizes 4, 6 and 2, respectively. Before we continue, we will set up some auxilliary variables that store which sample came from which population. These are not strictly necessary, but will make things easier for downstream analysis."
   ]
  },
  {
   "cell_type": "code",
   "execution_count": 18,
   "metadata": {
    "collapsed": true
   },
   "outputs": [],
   "source": [
    "SS = 4, 6 ,2 #sample sizes\n",
    "labels = \"EUR\", \"AFR\", \"NEA\"\n",
    "lab_dict = {} #dict assigning samples to pops\n",
    "EUR = list(range(SS[0]))\n",
    "AFR = list(range(SS[0], SS[0] + SS[1]))\n",
    "NEA = list(range(SS[0] + SS[1], sum(SS)))\n",
    "POPS = [EUR, AFR, NEA]\n",
    "c = 0\n",
    "for i, l in zip(SS, labels):\n",
    "    for j in range(i):\n",
    "        lab_dict[c] = \"%s%d\" % (l, j)\n",
    "        c += 1"
   ]
  },
  {
   "cell_type": "markdown",
   "metadata": {},
   "source": [
    "Next, we need to specify their interactions. There are two ways we can do that: 1. specifying a migration matrix, which allows for continuous migration. Alternatively, we can define  demographic events that define pointwise admixture or merging events. We will use the latter here, using the `msprime.MassMigration` object. This will move all lineages that are present in a given deme at a given time to another deme"
   ]
  },
  {
   "cell_type": "code",
   "execution_count": 19,
   "metadata": {
    "collapsed": true
   },
   "outputs": [],
   "source": [
    "merge1 = ms.MassMigration(time=.1, source=0, dest=1)\n",
    "merge2 = ms.MassMigration(time=1.,  source=2, dest=1)\n",
    "demo_events = [merge1, merge2]"
   ]
  },
  {
   "cell_type": "markdown",
   "metadata": {},
   "source": [
    "Once these events are defined, we can use the simulation function as we are now used to:"
   ]
  },
  {
   "cell_type": "code",
   "execution_count": 20,
   "metadata": {},
   "outputs": [
    {
     "data": {
      "image/svg+xml": [
       "<svg baseProfile=\"full\" height=\"200\" version=\"1.1\" width=\"800\" xmlns=\"http://www.w3.org/2000/svg\" xmlns:ev=\"http://www.w3.org/2001/xml-events\" xmlns:xlink=\"http://www.w3.org/1999/xlink\"><defs/><g id=\"lines\" stroke=\"black\"><line x1=\"85.71428571428572\" x2=\"85.71428571428572\" y1=\"168.138567325397\" y2=\"20.0\"/><line x1=\"85.71428571428572\" x2=\"197.76785714285714\" y1=\"20.0\" y2=\"20.0\"/><line x1=\"57.142857142857146\" x2=\"57.142857142857146\" y1=\"180.0\" y2=\"168.138567325397\"/><line x1=\"57.142857142857146\" x2=\"85.71428571428572\" y1=\"168.138567325397\" y2=\"168.138567325397\"/><line x1=\"114.28571428571429\" x2=\"114.28571428571429\" y1=\"180.0\" y2=\"168.138567325397\"/><line x1=\"114.28571428571429\" x2=\"85.71428571428572\" y1=\"168.138567325397\" y2=\"168.138567325397\"/><line x1=\"309.82142857142856\" x2=\"309.82142857142856\" y1=\"48.12370521282696\" y2=\"20.0\"/><line x1=\"309.82142857142856\" x2=\"197.76785714285714\" y1=\"20.0\" y2=\"20.0\"/><line x1=\"200.0\" x2=\"200.0\" y1=\"139.52538387419006\" y2=\"48.12370521282696\"/><line x1=\"200.0\" x2=\"309.82142857142856\" y1=\"48.12370521282696\" y2=\"48.12370521282696\"/><line x1=\"171.42857142857144\" x2=\"171.42857142857144\" y1=\"180.0\" y2=\"139.52538387419006\"/><line x1=\"171.42857142857144\" x2=\"200.0\" y1=\"139.52538387419006\" y2=\"139.52538387419006\"/><line x1=\"228.57142857142858\" x2=\"228.57142857142858\" y1=\"180.0\" y2=\"139.52538387419006\"/><line x1=\"228.57142857142858\" x2=\"200.0\" y1=\"139.52538387419006\" y2=\"139.52538387419006\"/><line x1=\"419.6428571428571\" x2=\"419.6428571428571\" y1=\"63.830132263721936\" y2=\"48.12370521282696\"/><line x1=\"419.6428571428571\" x2=\"309.82142857142856\" y1=\"48.12370521282696\" y2=\"48.12370521282696\"/><line x1=\"328.57142857142856\" x2=\"328.57142857142856\" y1=\"148.15539353318547\" y2=\"63.830132263721936\"/><line x1=\"328.57142857142856\" x2=\"419.6428571428571\" y1=\"63.830132263721936\" y2=\"63.830132263721936\"/><line x1=\"285.7142857142857\" x2=\"285.7142857142857\" y1=\"180.0\" y2=\"148.15539353318547\"/><line x1=\"285.7142857142857\" x2=\"328.57142857142856\" y1=\"148.15539353318547\" y2=\"148.15539353318547\"/><line x1=\"371.42857142857144\" x2=\"371.42857142857144\" y1=\"176.96345074656847\" y2=\"148.15539353318547\"/><line x1=\"371.42857142857144\" x2=\"328.57142857142856\" y1=\"148.15539353318547\" y2=\"148.15539353318547\"/><line x1=\"342.8571428571429\" x2=\"342.8571428571429\" y1=\"180.0\" y2=\"176.96345074656847\"/><line x1=\"342.8571428571429\" x2=\"371.42857142857144\" y1=\"176.96345074656847\" y2=\"176.96345074656847\"/><line x1=\"400.0\" x2=\"400.0\" y1=\"180.0\" y2=\"176.96345074656847\"/><line x1=\"400.0\" x2=\"371.42857142857144\" y1=\"176.96345074656847\" y2=\"176.96345074656847\"/><line x1=\"510.71428571428567\" x2=\"510.71428571428567\" y1=\"108.34783280944811\" y2=\"63.830132263721936\"/><line x1=\"510.71428571428567\" x2=\"419.6428571428571\" y1=\"63.830132263721936\" y2=\"63.830132263721936\"/><line x1=\"457.14285714285717\" x2=\"457.14285714285717\" y1=\"180.0\" y2=\"108.34783280944811\"/><line x1=\"457.14285714285717\" x2=\"510.71428571428567\" y1=\"108.34783280944811\" y2=\"108.34783280944811\"/><line x1=\"564.2857142857142\" x2=\"564.2857142857142\" y1=\"135.88543075669443\" y2=\"108.34783280944811\"/><line x1=\"564.2857142857142\" x2=\"510.71428571428567\" y1=\"108.34783280944811\" y2=\"108.34783280944811\"/><line x1=\"514.2857142857143\" x2=\"514.2857142857143\" y1=\"180.0\" y2=\"135.88543075669443\"/><line x1=\"514.2857142857143\" x2=\"564.2857142857142\" y1=\"135.88543075669443\" y2=\"135.88543075669443\"/><line x1=\"614.2857142857142\" x2=\"614.2857142857142\" y1=\"145.006988520236\" y2=\"135.88543075669443\"/><line x1=\"614.2857142857142\" x2=\"564.2857142857142\" y1=\"135.88543075669443\" y2=\"135.88543075669443\"/><line x1=\"571.4285714285714\" x2=\"571.4285714285714\" y1=\"180.0\" y2=\"145.006988520236\"/><line x1=\"571.4285714285714\" x2=\"614.2857142857142\" y1=\"145.006988520236\" y2=\"145.006988520236\"/><line x1=\"657.1428571428571\" x2=\"657.1428571428571\" y1=\"157.6060982728919\" y2=\"145.006988520236\"/><line x1=\"657.1428571428571\" x2=\"614.2857142857142\" y1=\"145.006988520236\" y2=\"145.006988520236\"/><line x1=\"628.5714285714286\" x2=\"628.5714285714286\" y1=\"180.0\" y2=\"157.6060982728919\"/><line x1=\"628.5714285714286\" x2=\"657.1428571428571\" y1=\"157.6060982728919\" y2=\"157.6060982728919\"/><line x1=\"685.7142857142858\" x2=\"685.7142857142858\" y1=\"180.0\" y2=\"157.6060982728919\"/><line x1=\"685.7142857142858\" x2=\"657.1428571428571\" y1=\"157.6060982728919\" y2=\"157.6060982728919\"/></g><g font-size=\"14\" text-anchor=\"start\"/><g font-size=\"14\" text-anchor=\"end\"/><g font-size=\"14\" text-anchor=\"middle\"><text x=\"57.142857142857146\" y=\"200.0\">NEA0</text><text x=\"114.28571428571429\" y=\"200.0\">NEA1</text><text x=\"171.42857142857144\" y=\"200.0\">EUR2</text><text x=\"228.57142857142858\" y=\"200.0\">EUR3</text><text x=\"285.7142857142857\" y=\"200.0\">AFR3</text><text x=\"342.8571428571429\" y=\"200.0\">AFR0</text><text x=\"400.0\" y=\"200.0\">AFR4</text><text x=\"457.14285714285717\" y=\"200.0\">AFR5</text><text x=\"514.2857142857143\" y=\"200.0\">EUR0</text><text x=\"571.4285714285714\" y=\"200.0\">EUR1</text><text x=\"628.5714285714286\" y=\"200.0\">AFR1</text><text x=\"685.7142857142858\" y=\"200.0\">AFR2</text></g><circle cx=\"197.76785714285714\" cy=\"20.0\" fill=\"black\" r=\"3\"/><circle cx=\"85.71428571428572\" cy=\"168.138567325397\" fill=\"black\" r=\"3\"/><circle cx=\"57.142857142857146\" cy=\"180.0\" fill=\"black\" r=\"3\"/><circle cx=\"114.28571428571429\" cy=\"180.0\" fill=\"black\" r=\"3\"/><circle cx=\"309.82142857142856\" cy=\"48.12370521282696\" fill=\"black\" r=\"3\"/><circle cx=\"200.0\" cy=\"139.52538387419006\" fill=\"black\" r=\"3\"/><circle cx=\"171.42857142857144\" cy=\"180.0\" fill=\"black\" r=\"3\"/><circle cx=\"228.57142857142858\" cy=\"180.0\" fill=\"black\" r=\"3\"/><circle cx=\"419.6428571428571\" cy=\"63.830132263721936\" fill=\"black\" r=\"3\"/><circle cx=\"328.57142857142856\" cy=\"148.15539353318547\" fill=\"black\" r=\"3\"/><circle cx=\"285.7142857142857\" cy=\"180.0\" fill=\"black\" r=\"3\"/><circle cx=\"371.42857142857144\" cy=\"176.96345074656847\" fill=\"black\" r=\"3\"/><circle cx=\"342.8571428571429\" cy=\"180.0\" fill=\"black\" r=\"3\"/><circle cx=\"400.0\" cy=\"180.0\" fill=\"black\" r=\"3\"/><circle cx=\"510.71428571428567\" cy=\"108.34783280944811\" fill=\"black\" r=\"3\"/><circle cx=\"457.14285714285717\" cy=\"180.0\" fill=\"black\" r=\"3\"/><circle cx=\"564.2857142857142\" cy=\"135.88543075669443\" fill=\"black\" r=\"3\"/><circle cx=\"514.2857142857143\" cy=\"180.0\" fill=\"black\" r=\"3\"/><circle cx=\"614.2857142857142\" cy=\"145.006988520236\" fill=\"black\" r=\"3\"/><circle cx=\"571.4285714285714\" cy=\"180.0\" fill=\"black\" r=\"3\"/><circle cx=\"657.1428571428571\" cy=\"157.6060982728919\" fill=\"black\" r=\"3\"/><circle cx=\"628.5714285714286\" cy=\"180.0\" fill=\"black\" r=\"3\"/><circle cx=\"685.7142857142858\" cy=\"180.0\" fill=\"black\" r=\"3\"/><g alignment-baseline=\"middle\" font-size=\"14\" font-style=\"italic\" text-anchor=\"start\"/><g alignment-baseline=\"middle\" font-size=\"14\" font-style=\"italic\" text-anchor=\"end\"/></svg>"
      ],
      "text/plain": [
       "<IPython.core.display.SVG object>"
      ]
     },
     "execution_count": 20,
     "metadata": {},
     "output_type": "execute_result"
    }
   ],
   "source": [
    "ts = ms.simulate(population_configurations=pop_cfg, demographic_events=demo_events)\n",
    "SVG(ts.first().draw(node_labels=lab_dict, width=800))"
   ]
  },
  {
   "cell_type": "code",
   "execution_count": 21,
   "metadata": {
    "collapsed": true
   },
   "outputs": [],
   "source": [
    "tree_sequence_iterator = ms.simulate(population_configurations=pop_cfg, \n",
    "                                     demographic_events=demo_events, num_replicates=1000)\n",
    "div_mat = np.zeros((1,3,3))\n",
    "for tree_sequence in tree_sequence_iterator:\n",
    "    s = ms.BranchLengthStatCalculator(tree_sequence)\n",
    "    div_mat += s.divergence_matrix(POPS, windows=[0.0,1.])\n",
    "    \n"
   ]
  },
  {
   "cell_type": "code",
   "execution_count": 22,
   "metadata": {
    "scrolled": true
   },
   "outputs": [
    {
     "data": {
      "text/plain": [
       "array([[[ 3946.32646041,  4225.55128317,  6100.52524226],\n",
       "        [ 4225.55128317,  3995.2691974 ,  6103.31486339],\n",
       "        [ 6100.52524226,  6103.31486339,   408.97252272]]])"
      ]
     },
     "execution_count": 22,
     "metadata": {},
     "output_type": "execute_result"
    }
   ],
   "source": [
    "div_mat"
   ]
  },
  {
   "cell_type": "markdown",
   "metadata": {},
   "source": [
    "## Principal component analysis"
   ]
  },
  {
   "cell_type": "code",
   "execution_count": 23,
   "metadata": {},
   "outputs": [
    {
     "name": "stderr",
     "output_type": "stream",
     "text": [
      "/home/bpeter/.local/lib/python3.5/site-packages/matplotlib/figure.py:402: UserWarning: matplotlib is currently using a non-GUI backend, so cannot show the figure\n",
      "  \"matplotlib is currently using a non-GUI backend, \"\n"
     ]
    },
    {
     "data": {
      "image/png": "[encoded data removed]",
      "text/plain": [
       "<matplotlib.figure.Figure at 0x7f94cf227160>"
      ]
     },
     "metadata": {},
     "output_type": "display_data"
    }
   ],
   "source": [
    "tree_sequence_iterator = ms.simulate(population_configurations=pop_cfg, \n",
    "                                     demographic_events=demo_events, num_replicates=200, mutation_rate=5)\n",
    "genotypes = [ts.genotype_matrix() for ts in tree_sequence_iterator]\n",
    "gt = np.array(np.concatenate(genotypes, 0), np.float)\n",
    "snp_mean = np.mean(gt,1)\n",
    "gt = (gt.transpose() - snp_mean) #normalize each snp to have mean zero\n",
    "u,d, v = np.linalg.svd(gt) #perform singular value decomposition to \n",
    "\n",
    "fig = plt.figure(figsize=[10,4]) #create figure\n",
    "ax = fig.add_subplot(1, 1, 1) #create panel\n",
    "ax.scatter(u[:,0], u[:,1], c=[\"r\",\"r\", \"r\", \"r\", \"b\", \"b\", \"b\", \"b\", \"b\", \"b\", \"orange\", \"orange\"])\n",
    "fig.show()"
   ]
  },
  {
   "cell_type": "markdown",
   "metadata": {},
   "source": [
    "<div class=\"alert alert-block alert-warning\">\n",
    "**Question 8:** Create a PCA plot similar to above, but without Neandertals. How does the interpretation of the data change?\n",
    " </div>"
   ]
  },
  {
   "cell_type": "code",
   "execution_count": null,
   "metadata": {
    "collapsed": true
   },
   "outputs": [],
   "source": []
  }
 ],
 "metadata": {
  "kernelspec": {
   "display_name": "Python 3",
   "language": "python",
   "name": "python3"
  },
  "language_info": {
   "codemirror_mode": {
    "name": "ipython",
    "version": 3
   },
   "file_extension": ".py",
   "mimetype": "text/x-python",
   "name": "python",
   "nbconvert_exporter": "python",
   "pygments_lexer": "ipython3",
   "version": "3.5.2"
  }
 },
 "nbformat": 4,
 "nbformat_minor": 2
}
